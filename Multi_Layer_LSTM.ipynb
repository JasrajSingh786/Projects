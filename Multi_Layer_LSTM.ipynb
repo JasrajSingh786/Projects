{
 "cells": [
  {
   "cell_type": "code",
   "execution_count": 53,
   "id": "b9888440-fac2-444c-9f80-9badf4bfeead",
   "metadata": {},
   "outputs": [],
   "source": [
    "import numpy as np\n",
    "import tensorflow as tf\n",
    "from tensorflow.keras.models import Sequential\n",
    "from tensorflow.keras.layers import Embedding, LSTM, Dense\n",
    "from tensorflow.keras.optimizers import Adam\n",
    "from tensorflow.keras.utils import to_categorical\n",
    "import pretty_midi\n",
    "import glob\n",
    "from tqdm import tqdm\n",
    "import matplotlib.pyplot as plt"
   ]
  },
  {
   "cell_type": "code",
   "execution_count": 17,
   "id": "b48098fa-4967-4560-8a88-996207decabc",
   "metadata": {},
   "outputs": [],
   "source": [
    "# Step 1: Load and Parse MIDI Files\n",
    "def parse_midi(file_path):\n",
    "    \"\"\"\n",
    "    Parse a MIDI file and extract note pitches.\n",
    "    Each note is represented as (start_time, end_time, pitch).\n",
    "    \"\"\"\n",
    "    midi_data = pretty_midi.PrettyMIDI(file_path)\n",
    "    notes = []\n",
    "    for instrument in midi_data.instruments:\n",
    "        for note in instrument.notes:\n",
    "            notes.append((note.start, note.end, note.pitch))\n",
    "    return notes\n",
    "\n",
    "def load_multiple_midi_files(folder_path):\n",
    "    \"\"\"\n",
    "    Load and parse multiple MIDI files from a folder.\n",
    "    \"\"\"\n",
    "    all_notes = []\n",
    "    for file_path in tqdm(glob.glob(f\"{folder_path}/*.midi\"), desc=\"Processing MIDI files\"):\n",
    "        try:\n",
    "            notes = parse_midi(file_path)\n",
    "            all_notes.extend(notes)\n",
    "        except Exception as e:\n",
    "            print(f\"Error processing {file_path}: {e}\")\n",
    "    return all_notes"
   ]
  },
  {
   "cell_type": "code",
   "execution_count": 47,
   "id": "14e61e79-0fdf-4f02-bf67-844da3e728ef",
   "metadata": {},
   "outputs": [],
   "source": [
    "# Step 2: Preprocess Data\n",
    "def preprocess_notes(notes, sequence_length=50):\n",
    "    pitches = [note[2] for note in notes]\n",
    "    unique_pitches = sorted(set(pitches))\n",
    "    pitch_to_idx = {pitch: i for i, pitch in enumerate(unique_pitches)}\n",
    "    idx_to_pitch = {i: pitch for pitch, i in pitch_to_idx.items()}\n",
    "    \n",
    "    encoded = [pitch_to_idx[p] for p in pitches]\n",
    "    sequences = []\n",
    "    targets = []\n",
    "    for i in range(len(encoded) - sequence_length):\n",
    "        sequences.append(encoded[i:i+sequence_length])\n",
    "        targets.append(encoded[i+sequence_length])\n",
    "    \n",
    "    return np.array(sequences), np.array(targets), pitch_to_idx, idx_to_pitch"
   ]
  },
  {
   "cell_type": "code",
   "execution_count": 49,
   "id": "2524b874-5d59-4d5c-b1d2-0f6beaa40f72",
   "metadata": {},
   "outputs": [],
   "source": [
    "# Step 3: Define the Vanilla LSTM Model\n",
    "def create_model(vocab_size, embed_size, hidden_size):\n",
    "    model = Sequential()\n",
    "    model.add(Embedding(input_dim=vocab_size, output_dim=embed_size, input_length=50))\n",
    "    model.add(LSTM(hidden_size))  # Single LSTM layer (Vanilla LSTM)\n",
    "    model.add(Dense(vocab_size, activation='softmax'))\n",
    "    return model"
   ]
  },
  {
   "cell_type": "code",
   "execution_count": 9,
   "id": "13946eee-dc78-4a28-b2a0-65df201e5253",
   "metadata": {},
   "outputs": [],
   "source": [
    "# Step 4: Train the Model\n",
    "def train_model(model, sequences, targets, batch_size=64, epochs=10):\n",
    "    model.compile(loss='sparse_categorical_crossentropy', optimizer=Adam(learning_rate=0.001), metrics=['accuracy'])\n",
    "    history = model.fit(sequences, targets, batch_size=batch_size, epochs=epochs, shuffle=True)\n",
    "    return history"
   ]
  },
  {
   "cell_type": "code",
   "execution_count": 23,
   "id": "eeb2347c-05ba-4f61-b15c-d42f357adb70",
   "metadata": {},
   "outputs": [],
   "source": [
    "# Step 5: Generate Music\n",
    "def generate_sequence(model, start_sequence, idx_to_pitch, seq_length=100):\n",
    "    generated = list(start_sequence)\n",
    "    input_seq = np.array(start_sequence).reshape(1, -1)\n",
    "    for _ in range(seq_length):\n",
    "        output = model.predict(input_seq, verbose=0)\n",
    "        predicted = np.argmax(output, axis=1)\n",
    "        generated.append(predicted[0])\n",
    "        input_seq = np.append(input_seq[:, 1:], [[predicted[0]]], axis=1)\n",
    "    return [idx_to_pitch[idx] for idx in generated]"
   ]
  },
  {
   "cell_type": "code",
   "execution_count": 13,
   "id": "7335c36d-bfc7-42cc-a342-0a77af8c3732",
   "metadata": {},
   "outputs": [],
   "source": [
    "# Step 6: Save MIDI File\n",
    "def save_to_midi(sequence, output_file):\n",
    "    midi = pretty_midi.PrettyMIDI()\n",
    "    instrument = pretty_midi.Instrument(program=0)\n",
    "    start_time = 0\n",
    "    for pitch in sequence:\n",
    "        note = pretty_midi.Note(velocity=100, pitch=pitch, start=start_time, end=start_time + 0.5)\n",
    "        instrument.notes.append(note)\n",
    "        start_time += 0.5\n",
    "    midi.instruments.append(instrument)\n",
    "    midi.write(output_file)"
   ]
  },
  {
   "cell_type": "code",
   "execution_count": 25,
   "id": "7be47c61-0125-4765-b2e3-710d8e529c13",
   "metadata": {},
   "outputs": [
    {
     "name": "stdout",
     "output_type": "stream",
     "text": [
      "Loading MIDI files...\n"
     ]
    },
    {
     "name": "stderr",
     "output_type": "stream",
     "text": [
      "Processing MIDI files: 100%|██████████| 163/163 [00:21<00:00,  7.44it/s]\n"
     ]
    },
    {
     "name": "stdout",
     "output_type": "stream",
     "text": [
      "Preprocessing notes...\n",
      "Total sequences: 612014\n",
      "Creating model...\n",
      "Starting training...\n",
      "Epoch 1/10\n",
      "\u001b[1m9563/9563\u001b[0m \u001b[32m━━━━━━━━━━━━━━━━━━━━\u001b[0m\u001b[37m\u001b[0m \u001b[1m481s\u001b[0m 50ms/step - accuracy: 0.0807 - loss: 3.5518\n",
      "Epoch 2/10\n",
      "\u001b[1m9563/9563\u001b[0m \u001b[32m━━━━━━━━━━━━━━━━━━━━\u001b[0m\u001b[37m\u001b[0m \u001b[1m404s\u001b[0m 42ms/step - accuracy: 0.1537 - loss: 3.1250\n",
      "Epoch 3/10\n",
      "\u001b[1m9563/9563\u001b[0m \u001b[32m━━━━━━━━━━━━━━━━━━━━\u001b[0m\u001b[37m\u001b[0m \u001b[1m401s\u001b[0m 42ms/step - accuracy: 0.1996 - loss: 2.9676\n",
      "Epoch 4/10\n",
      "\u001b[1m9563/9563\u001b[0m \u001b[32m━━━━━━━━━━━━━━━━━━━━\u001b[0m\u001b[37m\u001b[0m \u001b[1m405s\u001b[0m 42ms/step - accuracy: 0.2266 - loss: 2.8655\n",
      "Epoch 5/10\n",
      "\u001b[1m9563/9563\u001b[0m \u001b[32m━━━━━━━━━━━━━━━━━━━━\u001b[0m\u001b[37m\u001b[0m \u001b[1m409s\u001b[0m 43ms/step - accuracy: 0.2460 - loss: 2.7899\n",
      "Epoch 6/10\n",
      "\u001b[1m9563/9563\u001b[0m \u001b[32m━━━━━━━━━━━━━━━━━━━━\u001b[0m\u001b[37m\u001b[0m \u001b[1m416s\u001b[0m 43ms/step - accuracy: 0.2622 - loss: 2.7290\n",
      "Epoch 7/10\n",
      "\u001b[1m9563/9563\u001b[0m \u001b[32m━━━━━━━━━━━━━━━━━━━━\u001b[0m\u001b[37m\u001b[0m \u001b[1m424s\u001b[0m 44ms/step - accuracy: 0.2720 - loss: 2.6881\n",
      "Epoch 8/10\n",
      "\u001b[1m9563/9563\u001b[0m \u001b[32m━━━━━━━━━━━━━━━━━━━━\u001b[0m\u001b[37m\u001b[0m \u001b[1m432s\u001b[0m 45ms/step - accuracy: 0.2826 - loss: 2.6462\n",
      "Epoch 9/10\n",
      "\u001b[1m9563/9563\u001b[0m \u001b[32m━━━━━━━━━━━━━━━━━━━━\u001b[0m\u001b[37m\u001b[0m \u001b[1m432s\u001b[0m 45ms/step - accuracy: 0.2891 - loss: 2.6168\n",
      "Epoch 10/10\n",
      "\u001b[1m9563/9563\u001b[0m \u001b[32m━━━━━━━━━━━━━━━━━━━━\u001b[0m\u001b[37m\u001b[0m \u001b[1m441s\u001b[0m 46ms/step - accuracy: 0.2959 - loss: 2.5918\n"
     ]
    },
    {
     "name": "stderr",
     "output_type": "stream",
     "text": [
      "WARNING:absl:You are saving your model as an HDF5 file via `model.save()` or `keras.saving.save_model(model)`. This file format is considered legacy. We recommend using instead the native Keras format, e.g. `model.save('my_model.keras')` or `keras.saving.save_model(model, 'my_model.keras')`. \n"
     ]
    },
    {
     "name": "stdout",
     "output_type": "stream",
     "text": [
      "Training completed.\n",
      "Generated MIDI saved as 'generated_music.midi'.\n"
     ]
    }
   ],
   "source": [
    "if __name__ == \"__main__\":\n",
    "    folder_path = 'C:/Users/HP/Downloads/train-20241205T124602Z-001/train/2011'  # Folder path containing MIDI files\n",
    "    print(\"Loading MIDI files...\")\n",
    "    notes = load_multiple_midi_files(folder_path)  # Parse all files\n",
    "    \n",
    "    print(\"Preprocessing notes...\")\n",
    "    sequences, targets, pitch_to_idx, idx_to_pitch = preprocess_notes(notes)\n",
    "    \n",
    "    print(f\"Total sequences: {len(sequences)}\")\n",
    "    \n",
    "    vocab_size = len(pitch_to_idx)\n",
    "    embed_size = 64\n",
    "    hidden_size = 128\n",
    "    num_layers = 2\n",
    "    \n",
    "    print(\"Creating model...\")\n",
    "    model = create_model(vocab_size, embed_size, hidden_size, num_layers)\n",
    "    \n",
    "    print(\"Starting training...\")\n",
    "    train_model(model, sequences, targets, batch_size=64, epochs=10)\n",
    "    print(\"Training completed.\")\n",
    "    \n",
    "    # Save the trained model (Optional)\n",
    "    model.save('trained_music_lstm.h5')\n",
    "    \n",
    "    # Generate and Save MIDI\n",
    "    start_sequence = sequences[0]  # You can choose a different starting sequence\n",
    "    generated_sequence = generate_sequence(model, start_sequence, idx_to_pitch, seq_length=100)\n",
    "    save_to_midi(generated_sequence, 'generated_music.midi')\n",
    "    print(\"Generated MIDI saved as 'generated_music.midi'.\")"
   ]
  },
  {
   "cell_type": "code",
   "execution_count": 35,
   "id": "9dbdd2f5-12b5-41ff-a63f-301fe287e004",
   "metadata": {},
   "outputs": [
    {
     "name": "stdout",
     "output_type": "stream",
     "text": [
      "Generated MIDI saved as 'generated_music.midi'.\n"
     ]
    }
   ],
   "source": [
    "start_sequence = sequences[0]  # You can choose a different starting sequence\n",
    "generated_sequence = generate_sequence(model, start_sequence, idx_to_pitch, seq_length=100)\n",
    "save_to_midi(generated_sequence, 'generated_music.midi')\n",
    "print(\"Generated MIDI saved as 'generated_music.midi'.\")"
   ]
  },
  {
   "cell_type": "code",
   "execution_count": 37,
   "id": "d4b89f5a-cdee-4389-96e1-92e5763150ce",
   "metadata": {},
   "outputs": [
    {
     "name": "stdout",
     "output_type": "stream",
     "text": [
      "Generated MIDI saved as 'generated_music.midi'.\n"
     ]
    }
   ],
   "source": [
    "start_sequence = sequences[5]  # You can choose a different starting sequence\n",
    "generated_sequence = generate_sequence(model, start_sequence, idx_to_pitch, seq_length=100)\n",
    "save_to_midi(generated_sequence, 'generated_music.midi')\n",
    "print(\"Generated MIDI saved as 'generated_music.midi'.\")"
   ]
  },
  {
   "cell_type": "code",
   "execution_count": 39,
   "id": "4d63f6ce-ff73-40bf-8b20-ee233a59ca51",
   "metadata": {},
   "outputs": [
    {
     "name": "stdout",
     "output_type": "stream",
     "text": [
      "Generated MIDI saved as 'generated_music.midi'.\n"
     ]
    }
   ],
   "source": [
    "start_sequence = sequences[10]  # You can choose a different starting sequence\n",
    "generated_sequence = generate_sequence(model, start_sequence, idx_to_pitch, seq_length=100)\n",
    "save_to_midi(generated_sequence, 'generated_music.midi')\n",
    "print(\"Generated MIDI saved as 'generated_music.midi'.\")"
   ]
  },
  {
   "cell_type": "code",
   "execution_count": 41,
   "id": "18cc723c-ed47-4521-ae11-bd2813d8c574",
   "metadata": {},
   "outputs": [
    {
     "name": "stdout",
     "output_type": "stream",
     "text": [
      "Generated MIDI saved as 'generated_music.midi'.\n"
     ]
    }
   ],
   "source": [
    "start_sequence = sequences[15]  # You can choose a different starting sequence\n",
    "generated_sequence = generate_sequence(model, start_sequence, idx_to_pitch, seq_length=100)\n",
    "save_to_midi(generated_sequence, 'generated_music.midi')\n",
    "print(\"Generated MIDI saved as 'generated_music.midi'.\")"
   ]
  },
  {
   "cell_type": "code",
   "execution_count": 43,
   "id": "bd2b3872-c8a4-4a29-bb59-ccfbb4bd1f9a",
   "metadata": {},
   "outputs": [
    {
     "name": "stdout",
     "output_type": "stream",
     "text": [
      "Generated MIDI saved as 'generated_music.midi'.\n"
     ]
    }
   ],
   "source": [
    "start_sequence = sequences[20]  # You can choose a different starting sequence\n",
    "generated_sequence = generate_sequence(model, start_sequence, idx_to_pitch, seq_length=100)\n",
    "save_to_midi(generated_sequence, 'generated_music.midi')\n",
    "print(\"Generated MIDI saved as 'generated_music.midi'.\")"
   ]
  },
  {
   "cell_type": "code",
   "execution_count": 45,
   "id": "a5a85d5d-8442-4517-90eb-6df0c2000b27",
   "metadata": {},
   "outputs": [
    {
     "data": {
      "text/html": [
       "<pre style=\"white-space:pre;overflow-x:auto;line-height:normal;font-family:Menlo,'DejaVu Sans Mono',consolas,'Courier New',monospace\"><span style=\"font-weight: bold\">Model: \"sequential_1\"</span>\n",
       "</pre>\n"
      ],
      "text/plain": [
       "\u001b[1mModel: \"sequential_1\"\u001b[0m\n"
      ]
     },
     "metadata": {},
     "output_type": "display_data"
    },
    {
     "data": {
      "text/html": [
       "<pre style=\"white-space:pre;overflow-x:auto;line-height:normal;font-family:Menlo,'DejaVu Sans Mono',consolas,'Courier New',monospace\">┏━━━━━━━━━━━━━━━━━━━━━━━━━━━━━━━━━┳━━━━━━━━━━━━━━━━━━━━━━━━┳━━━━━━━━━━━━━━━┓\n",
       "┃<span style=\"font-weight: bold\"> Layer (type)                    </span>┃<span style=\"font-weight: bold\"> Output Shape           </span>┃<span style=\"font-weight: bold\">       Param # </span>┃\n",
       "┡━━━━━━━━━━━━━━━━━━━━━━━━━━━━━━━━━╇━━━━━━━━━━━━━━━━━━━━━━━━╇━━━━━━━━━━━━━━━┩\n",
       "│ embedding_1 (<span style=\"color: #0087ff; text-decoration-color: #0087ff\">Embedding</span>)         │ (<span style=\"color: #00d7ff; text-decoration-color: #00d7ff\">None</span>, <span style=\"color: #00af00; text-decoration-color: #00af00\">50</span>, <span style=\"color: #00af00; text-decoration-color: #00af00\">64</span>)         │         <span style=\"color: #00af00; text-decoration-color: #00af00\">5,568</span> │\n",
       "├─────────────────────────────────┼────────────────────────┼───────────────┤\n",
       "│ lstm_3 (<span style=\"color: #0087ff; text-decoration-color: #0087ff\">LSTM</span>)                   │ (<span style=\"color: #00d7ff; text-decoration-color: #00d7ff\">None</span>, <span style=\"color: #00af00; text-decoration-color: #00af00\">50</span>, <span style=\"color: #00af00; text-decoration-color: #00af00\">128</span>)        │        <span style=\"color: #00af00; text-decoration-color: #00af00\">98,816</span> │\n",
       "├─────────────────────────────────┼────────────────────────┼───────────────┤\n",
       "│ lstm_4 (<span style=\"color: #0087ff; text-decoration-color: #0087ff\">LSTM</span>)                   │ (<span style=\"color: #00d7ff; text-decoration-color: #00d7ff\">None</span>, <span style=\"color: #00af00; text-decoration-color: #00af00\">128</span>)            │       <span style=\"color: #00af00; text-decoration-color: #00af00\">131,584</span> │\n",
       "├─────────────────────────────────┼────────────────────────┼───────────────┤\n",
       "│ dense_1 (<span style=\"color: #0087ff; text-decoration-color: #0087ff\">Dense</span>)                 │ (<span style=\"color: #00d7ff; text-decoration-color: #00d7ff\">None</span>, <span style=\"color: #00af00; text-decoration-color: #00af00\">87</span>)             │        <span style=\"color: #00af00; text-decoration-color: #00af00\">11,223</span> │\n",
       "└─────────────────────────────────┴────────────────────────┴───────────────┘\n",
       "</pre>\n"
      ],
      "text/plain": [
       "┏━━━━━━━━━━━━━━━━━━━━━━━━━━━━━━━━━┳━━━━━━━━━━━━━━━━━━━━━━━━┳━━━━━━━━━━━━━━━┓\n",
       "┃\u001b[1m \u001b[0m\u001b[1mLayer (type)                   \u001b[0m\u001b[1m \u001b[0m┃\u001b[1m \u001b[0m\u001b[1mOutput Shape          \u001b[0m\u001b[1m \u001b[0m┃\u001b[1m \u001b[0m\u001b[1m      Param #\u001b[0m\u001b[1m \u001b[0m┃\n",
       "┡━━━━━━━━━━━━━━━━━━━━━━━━━━━━━━━━━╇━━━━━━━━━━━━━━━━━━━━━━━━╇━━━━━━━━━━━━━━━┩\n",
       "│ embedding_1 (\u001b[38;5;33mEmbedding\u001b[0m)         │ (\u001b[38;5;45mNone\u001b[0m, \u001b[38;5;34m50\u001b[0m, \u001b[38;5;34m64\u001b[0m)         │         \u001b[38;5;34m5,568\u001b[0m │\n",
       "├─────────────────────────────────┼────────────────────────┼───────────────┤\n",
       "│ lstm_3 (\u001b[38;5;33mLSTM\u001b[0m)                   │ (\u001b[38;5;45mNone\u001b[0m, \u001b[38;5;34m50\u001b[0m, \u001b[38;5;34m128\u001b[0m)        │        \u001b[38;5;34m98,816\u001b[0m │\n",
       "├─────────────────────────────────┼────────────────────────┼───────────────┤\n",
       "│ lstm_4 (\u001b[38;5;33mLSTM\u001b[0m)                   │ (\u001b[38;5;45mNone\u001b[0m, \u001b[38;5;34m128\u001b[0m)            │       \u001b[38;5;34m131,584\u001b[0m │\n",
       "├─────────────────────────────────┼────────────────────────┼───────────────┤\n",
       "│ dense_1 (\u001b[38;5;33mDense\u001b[0m)                 │ (\u001b[38;5;45mNone\u001b[0m, \u001b[38;5;34m87\u001b[0m)             │        \u001b[38;5;34m11,223\u001b[0m │\n",
       "└─────────────────────────────────┴────────────────────────┴───────────────┘\n"
      ]
     },
     "metadata": {},
     "output_type": "display_data"
    },
    {
     "data": {
      "text/html": [
       "<pre style=\"white-space:pre;overflow-x:auto;line-height:normal;font-family:Menlo,'DejaVu Sans Mono',consolas,'Courier New',monospace\"><span style=\"font-weight: bold\"> Total params: </span><span style=\"color: #00af00; text-decoration-color: #00af00\">741,575</span> (2.83 MB)\n",
       "</pre>\n"
      ],
      "text/plain": [
       "\u001b[1m Total params: \u001b[0m\u001b[38;5;34m741,575\u001b[0m (2.83 MB)\n"
      ]
     },
     "metadata": {},
     "output_type": "display_data"
    },
    {
     "data": {
      "text/html": [
       "<pre style=\"white-space:pre;overflow-x:auto;line-height:normal;font-family:Menlo,'DejaVu Sans Mono',consolas,'Courier New',monospace\"><span style=\"font-weight: bold\"> Trainable params: </span><span style=\"color: #00af00; text-decoration-color: #00af00\">247,191</span> (965.59 KB)\n",
       "</pre>\n"
      ],
      "text/plain": [
       "\u001b[1m Trainable params: \u001b[0m\u001b[38;5;34m247,191\u001b[0m (965.59 KB)\n"
      ]
     },
     "metadata": {},
     "output_type": "display_data"
    },
    {
     "data": {
      "text/html": [
       "<pre style=\"white-space:pre;overflow-x:auto;line-height:normal;font-family:Menlo,'DejaVu Sans Mono',consolas,'Courier New',monospace\"><span style=\"font-weight: bold\"> Non-trainable params: </span><span style=\"color: #00af00; text-decoration-color: #00af00\">0</span> (0.00 B)\n",
       "</pre>\n"
      ],
      "text/plain": [
       "\u001b[1m Non-trainable params: \u001b[0m\u001b[38;5;34m0\u001b[0m (0.00 B)\n"
      ]
     },
     "metadata": {},
     "output_type": "display_data"
    },
    {
     "data": {
      "text/html": [
       "<pre style=\"white-space:pre;overflow-x:auto;line-height:normal;font-family:Menlo,'DejaVu Sans Mono',consolas,'Courier New',monospace\"><span style=\"font-weight: bold\"> Optimizer params: </span><span style=\"color: #00af00; text-decoration-color: #00af00\">494,384</span> (1.89 MB)\n",
       "</pre>\n"
      ],
      "text/plain": [
       "\u001b[1m Optimizer params: \u001b[0m\u001b[38;5;34m494,384\u001b[0m (1.89 MB)\n"
      ]
     },
     "metadata": {},
     "output_type": "display_data"
    }
   ],
   "source": [
    "model.summary()"
   ]
  },
  {
   "cell_type": "code",
   "execution_count": null,
   "id": "0f9db0a3-c1d3-4f9d-8646-4439ae5fdabe",
   "metadata": {},
   "outputs": [],
   "source": []
  }
 ],
 "metadata": {
  "kernelspec": {
   "display_name": "Python 3 (ipykernel)",
   "language": "python",
   "name": "python3"
  },
  "language_info": {
   "codemirror_mode": {
    "name": "ipython",
    "version": 3
   },
   "file_extension": ".py",
   "mimetype": "text/x-python",
   "name": "python",
   "nbconvert_exporter": "python",
   "pygments_lexer": "ipython3",
   "version": "3.12.7"
  }
 },
 "nbformat": 4,
 "nbformat_minor": 5
}
